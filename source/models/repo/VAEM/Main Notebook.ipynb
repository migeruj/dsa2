{
 "cells": [
  {
   "cell_type": "markdown",
   "metadata": {},
   "source": [
    "# VAEM: a Deep Generative Model for Heterogeneous Mixed Type Data"
   ]
  },
  {
   "cell_type": "markdown",
   "metadata": {},
   "source": [
    "VAEM is an extension of variational autoencoders (VAEs) in order to handle such heterogeneous data. It is a deep generative model that is trained in a two stage manner. In the first stage we fit a different VAE independently to each data dimension $x_{nd}$. We call the resulting $D$ models marginal VAEs. Then, in the second stage, in order to capture the inter-variable dependencies, a new multi-dimensional VAE, called the dependency network, is build on top of the latent representations provided by the first-stage encoders. Finally, if the model is used in down stream tasks such as sequential active information acquisition, we often introduce a third stage, which is to add a new discriminator (preditor) model on top of the VAEM outputs. \n",
    "\n",
    "Different stages are referred as `1`,`2`, and `3` in `list_stages` in the `.json` files. "
   ]
  },
  {
   "cell_type": "markdown",
   "metadata": {},
   "source": [
    "## Usage"
   ]
  },
  {
   "cell_type": "markdown",
   "metadata": {},
   "source": [
    "To run the demo, you need to first download the [Bank Marketing UCI dataset](https://archive.ics.uci.edu/ml/datasets/Bank+Marketing), \n",
    "and put the csv file under `data/bank`. You will need to preprocess the data into the format according to our example .csv \n",
    "file (which does not contain any real data). This can done by splitting the text into columns using `;` as delimiters. Then,\n",
    "simply run `Main_Notebook.ipynb`. This notebook train/or load a VAEM model on Bank dataset, \n",
    "and demonstrates how to perform sequential active information acquisition (SAIA) and imputation. \n",
    "By default, it trains a new model on Bank dataset. If you would like to load a pre-trained model, by default it will load a pre-trained tensorflow model from `saved_weights/bank/`. Note that in order to perform \n",
    "active information acquisition, an additional third stage training is required. This will add a discriminator (predictor)\n",
    "to the model, which is required for SAIA. The configurations for VAEM can be found in `.json` files in `hyperparameters/bank`, \n",
    "which include:\n",
    "* \"list_stage\" : list of stages that you would like the model to be trained. stage 1 = training marginal VAEs, stage 2 = training dependency network,  stage 3 = add predictor and improve predictive performance. The default is [1,2]. \n",
    "* \"epochs\" : number of epochs for training VAEM. If you would like to load a pretrained model rather than training a new one, you can simply set this to zero.\n",
    "* \"latent_dim\" : size of latent dimensions of dependency network, \n",
    "* \"p\" : upper bound for artificial missingness probability. For example, if set to 0.9, then during each training epoch, the algorithm will randomly choose a probability smaller than 0.9, and randomly drops observations according to this probability. Our suggestion is that if original dataset already contains missing data, you can just set p to 0. \n",
    "* \"iteration\" : iterations (number of mini batches) used per epoch. set to -1 to run the full epoch. If your dataset is large, please set to other values such as 10.\n",
    "* \"batch_size\" : iterations (number of mini batches) used per epoch. set to -1 to run the full epoch. If your dataset is large, please set to other values such as 10.\n",
    "* \"K\" : the dimension of the feature map (h) dimension of PNP encoder.\n",
    "* \"M\" : Number of MC samples when perform imputing. \n",
    "* \"repeat\" : number of repeats.\n",
    "* \"data_name\" : name of the dataset being used. Our default is \"bank\".\n",
    "* \"output_dir\" : Directory where the model is stored. Our default is \"./saved_weights/bank/\",\n",
    "* \"data_dir\" : Directory where the data is stored. Our default is \"./data/bank/\",\n",
    "* \"list_strategy\" : list of strategies for active learning, 0 = random, 1 = single ordering. Default: [1]"
   ]
  },
  {
   "cell_type": "markdown",
   "metadata": {},
   "source": [
    "## Load modules"
   ]
  },
  {
   "cell_type": "code",
   "execution_count": 1,
   "metadata": {
    "scrolled": true
   },
   "outputs": [
    {
     "name": "stderr",
     "output_type": "stream",
     "text": [
      "/home/paperspace/anaconda3/lib/python3.6/site-packages/h5py/__init__.py:36: FutureWarning: Conversion of the second argument of issubdtype from `float` to `np.floating` is deprecated. In future, it will be treated as `np.float64 == np.dtype(float).type`.\n",
      "  from ._conv import register_converters as _register_converters\n"
     ]
    },
    {
     "name": "stdout",
     "output_type": "stream",
     "text": [
      "1.4.1\n"
     ]
    }
   ],
   "source": [
    "import numpy as np\n",
    "import tensorflow as tf\n",
    "print(tf.__version__)\n",
    "from scipy.stats import bernoulli\n",
    "import os\n",
    "import random\n",
    "from random import sample\n",
    "from sklearn.feature_selection import mutual_info_regression\n",
    "import matplotlib.pyplot as plt\n",
    "from sklearn.model_selection import train_test_split\n",
    "import pandas as pd\n",
    "import sklearn.preprocessing as preprocessing\n",
    "from sklearn.metrics import mean_squared_error\n",
    "from sklearn.feature_selection import mutual_info_regression, mutual_info_classif\n",
    "plt.switch_backend('agg')\n",
    "tfd = tf.contrib.distributions\n",
    "import utils.process as process\n",
    "import json\n",
    "import utils.params as params\n",
    "import seaborn as sns; sns.set(style=\"ticks\", color_codes=True)"
   ]
  },
  {
   "cell_type": "markdown",
   "metadata": {},
   "source": [
    "## load hyperparameters"
   ]
  },
  {
   "cell_type": "code",
   "execution_count": 2,
   "metadata": {},
   "outputs": [],
   "source": [
    "args = params.Params('./hyperparameters/bank_plot.json')\n",
    "\n",
    "if not os.path.exists(args.output_dir):\n",
    "    os.makedirs(args.output_dir)  \n",
    "rs = 42 # random seed\n",
    "fast_plot = 0"
   ]
  },
  {
   "cell_type": "markdown",
   "metadata": {},
   "source": [
    "## Load Bank Data"
   ]
  },
  {
   "cell_type": "code",
   "execution_count": 3,
   "metadata": {},
   "outputs": [
    {
     "name": "stdout",
     "output_type": "stream",
     "text": [
      "<class 'pandas.core.frame.DataFrame'>\n",
      "RangeIndex: 32950 entries, 0 to 32949\n",
      "Data columns (total 21 columns):\n",
      "age               32950 non-null int64\n",
      "job               32950 non-null object\n",
      "marital           32950 non-null object\n",
      "education         32950 non-null object\n",
      "default           32950 non-null object\n",
      "housing           32950 non-null object\n",
      "loan              32950 non-null object\n",
      "contact           32950 non-null object\n",
      "month             32950 non-null object\n",
      "day_of_week       32950 non-null object\n",
      "duration          32950 non-null int64\n",
      "campaign          32950 non-null int64\n",
      "pdays             32950 non-null int64\n",
      "previous          32950 non-null int64\n",
      "poutcome          32950 non-null object\n",
      "emp.var.rate      32950 non-null float64\n",
      "cons.price.idx    32950 non-null float64\n",
      "cons.conf.idx     32950 non-null float64\n",
      "euribor3m         32950 non-null float64\n",
      "nr.employed       32950 non-null float64\n",
      "y                 32950 non-null object\n",
      "dtypes: float64(5), int64(5), object(11)\n",
      "memory usage: 5.3+ MB\n",
      "None\n"
     ]
    }
   ],
   "source": [
    "seed = 3000\n",
    "bank_raw = pd.read_csv(\"./data/bank/bankmarketing_train.csv\")\n",
    "print(bank_raw.info())\n",
    "label_column=\"y\"\n",
    "matrix1 = bank_raw.copy()\n",
    "\n",
    "\n",
    "process.encode_catrtogrial_column(matrix1, [\"job\"])\n",
    "process.encode_catrtogrial_column(matrix1, [\"marital\"])\n",
    "process.encode_catrtogrial_column(matrix1, [\"education\"])\n",
    "process.encode_catrtogrial_column(matrix1, [\"default\"])\n",
    "process.encode_catrtogrial_column(matrix1, [\"housing\"])\n",
    "process.encode_catrtogrial_column(matrix1, [\"loan\"])\n",
    "process.encode_catrtogrial_column(matrix1, [\"contact\"])\n",
    "process.encode_catrtogrial_column(matrix1, [\"month\"])\n",
    "process.encode_catrtogrial_column(matrix1, [\"day_of_week\"])\n",
    "process.encode_catrtogrial_column(matrix1, [\"poutcome\"])\n",
    "process.encode_catrtogrial_column(matrix1, [\"y\"])\n",
    "\n",
    "Data = ((matrix1.values).astype(float))[0:,:]\n",
    "\n",
    "\n",
    "\n"
   ]
  },
  {
   "cell_type": "markdown",
   "metadata": {},
   "source": [
    "## Specify parameters for data preprocessing"
   ]
  },
  {
   "cell_type": "code",
   "execution_count": null,
   "metadata": {},
   "outputs": [],
   "source": [
    "# the data will be mapped to interval [min_Data,max_Data]. Usually this will be [0,1] but you can also specify other values.\n",
    "max_Data = 0.7 \n",
    "min_Data = 0.3 \n",
    "# list of categorical variables\n",
    "list_cat = np.array([0,1,2,3,4,5,6,7])\n",
    "# list of numerical variables\n",
    "list_flt = np.array([8,9,10,11,12,13,14,15,16,17,18,19,20])\n",
    "# among numerical variables, which ones are discrete. This is referred as continuous-discrete variables in Appendix C.1.3 in our paper.\n",
    "# Examples include variables that take integer values, for example month, day of week, number of custumors etc. Other examples include numerical variables that are recorded on a discrete grid (for example salary). \n",
    "list_discrete = np.array([8,9])"
   ]
  },
  {
   "cell_type": "markdown",
   "metadata": {},
   "source": [
    "## Data pre-processing (decompressing)"
   ]
  },
  {
   "cell_type": "markdown",
   "metadata": {},
   "source": [
    "Here we basically do two things. First, the raw data matrix is sorted and normalized (squashed). Then, we will \"decompress\" the categorical variables in the raw data matrix into one-hot encoding features. In our implementations, we always use the suffix `_decomressed` to indicate any variables that are based on one-hot representations for categorical variables. For example, `Mask_decompressed` is the missingness indicator of the data matrix after decompressed into one-hot encodings."
   ]
  },
  {
   "cell_type": "code",
   "execution_count": 4,
   "metadata": {},
   "outputs": [
    {
     "name": "stdout",
     "output_type": "stream",
     "text": [
      "(32950, 21)\n"
     ]
    }
   ],
   "source": [
    "# sort the variables in the data matrix, so that categorical variables appears first. The resulting data matrix is Data_sub\n",
    "list_discrete_in_flt = (np.in1d(list_flt, list_discrete).nonzero()[0])\n",
    "list_discrete_compressed = list_discrete_in_flt + len(list_cat)\n",
    "\n",
    "if len(list_flt)>0 and len(list_cat)>0:\n",
    "    list_var = np.concatenate((list_cat,list_flt))\n",
    "elif len(list_flt)>0:\n",
    "    list_var = list_flt\n",
    "else:\n",
    "    list_var = list_cat\n",
    "Data_sub = Data[:,list_var]\n",
    "dic_var_type = np.zeros(Data_sub.shape[1])\n",
    "dic_var_type[0:len(list_cat)] = 1\n",
    "\n",
    "# In this notebook we assume the raw data matrix is fully observed\n",
    "Mask = np.ones(Data_sub.shape)\n",
    "# Normalize/squash the data matrix\n",
    "Data_std = (Data_sub - Data_sub.min(axis=0)) / (Data_sub.max(axis=0) - Data_sub.min(axis=0))\n",
    "scaling_factor = (Data_sub.max(axis=0) - Data_sub.min(axis=0))/(max_Data - min_Data)\n",
    "Data_sub = Data_std * (max_Data - min_Data) + min_Data\n",
    "\n",
    "# decompress categorical data into one hot representation\n",
    "Data_cat = Data[:,list_cat].copy()\n",
    "Data_flt = Data[:,list_flt].copy()\n",
    "Data_compressed = np.concatenate((Data_cat,Data_flt),axis = 1)\n",
    "Data_decompressed, Mask_decompressed, cat_dims, DIM_FLT = process.data_preprocess(Data_sub,Mask,dic_var_type)\n",
    "Data_train_decompressed, Data_test_decompressed, mask_train_decompressed, mask_test_decompressed,mask_train_compressed, mask_test_compressed,Data_train_compressed, Data_test_compressed = train_test_split(\n",
    "        Data_decompressed, Mask_decompressed,Mask,Data_compressed,test_size=0.1, random_state=rs)\n",
    "\n",
    "list_discrete = list_discrete_in_flt + (cat_dims.sum()).astype(int)\n",
    "\n",
    "Data_decompressed = np.concatenate((Data_train_decompressed, Data_test_decompressed), axis=0)\n",
    "Data_train_orig = Data_train_decompressed.copy()\n",
    "Data_test_orig = Data_test_decompressed.copy()\n",
    "\n",
    "# Note that here we have added some noise to continuous-discrete variables to help training. Alternatively, you can also disable this by changing the noise ratio to 0.\n",
    "Data_noisy_decompressed,records_d, intervals_d = process.noisy_transform(Data_decompressed, list_discrete, noise_ratio = 0.99)\n",
    "noise_record = Data_noisy_decompressed - Data_decompressed\n",
    "Data_train_noisy_decompressed = Data_noisy_decompressed[0:Data_train_decompressed.shape[0],:]\n",
    "Data_test_noisy_decompressed = Data_noisy_decompressed[Data_train_decompressed.shape[0]:,:]\n",
    "\n",
    "\n"
   ]
  },
  {
   "cell_type": "markdown",
   "metadata": {},
   "source": [
    "## Load or Train a VAEM model"
   ]
  },
  {
   "cell_type": "code",
   "execution_count": 5,
   "metadata": {
    "scrolled": true
   },
   "outputs": [
    {
     "name": "stdout",
     "output_type": "stream",
     "text": [
      "Tensor(\"is/generator/mul_5:0\", shape=(?, 124), dtype=float32)\n",
      "Tensor(\"is/generator/mul_43:0\", shape=(?, 124), dtype=float32)\n"
     ]
    },
    {
     "name": "stderr",
     "output_type": "stream",
     "text": [
      "/home/paperspace/anaconda3/lib/python3.6/site-packages/tensorflow/python/ops/gradients_impl.py:96: UserWarning: Converting sparse IndexedSlices to a dense Tensor of unknown shape. This may consume a large amount of memory.\n",
      "  \"Converting sparse IndexedSlices to a dense Tensor of unknown shape. \"\n"
     ]
    },
    {
     "name": "stdout",
     "output_type": "stream",
     "text": [
      "INFO:tensorflow:Restoring parameters from ./saved_weights/bank3_gen/encoder.tensorflow\n",
      "INFO:tensorflow:Restoring parameters from ./saved_weights/bank3_gen/generator.tensorflow\n",
      "WARNING:tensorflow:From /home/paperspace/Desktop/VAEM NIPS/models/model.py:554: all_variables (from tensorflow.python.ops.variables) is deprecated and will be removed after 2017-03-02.\n",
      "Instructions for updating:\n",
      "Please use tf.global_variables instead.\n"
     ]
    }
   ],
   "source": [
    "import utils.active_learning as active_learning\n",
    "vae = active_learning.p_vae_active_learning(Data_train_compressed, Data_train_noisy_decompressed,mask_train_decompressed,Data_test_decompressed,mask_test_compressed,mask_test_decompressed,cat_dims,DIM_FLT,dic_var_type,args)"
   ]
  },
  {
   "cell_type": "markdown",
   "metadata": {},
   "source": [
    "## Use the model to impute data and generate pairplots"
   ]
  },
  {
   "cell_type": "code",
   "execution_count": 6,
   "metadata": {},
   "outputs": [
    {
     "name": "stdout",
     "output_type": "stream",
     "text": [
      "76.0\n"
     ]
    },
    {
     "name": "stderr",
     "output_type": "stream",
     "text": [
      "/home/paperspace/Desktop/VAEM NIPS/models/model.py:1087: RuntimeWarning: invalid value encountered in true_divide\n",
      "  decoded_cat_int_p = decoded_cat_int_p/np.sum(decoded_cat_int_p,1,keepdims=True)\n",
      "/home/paperspace/Desktop/VAEM NIPS/models/model.py:1099: RuntimeWarning: invalid value encountered in less\n",
      "  decoded_cat_int[n,d] = np.random.choice(len(decoded_cat_int_p[n,:]), 1 , p=decoded_cat_int_p[n,:])\n"
     ]
    },
    {
     "name": "stdout",
     "output_type": "stream",
     "text": [
      "11.0\n",
      "2.0\n",
      "7.0\n",
      "1.0\n",
      "2.0\n",
      "0.0\n",
      "1.0\n",
      "76.0\n",
      "11.0\n",
      "3.0\n",
      "7.0\n",
      "2.0\n",
      "2.0\n",
      "2.0\n",
      "1.0\n"
     ]
    },
    {
     "data": {
      "image/png": "[encoded data removed]",
      "text/plain": [
       "<Figure size 540x540 with 12 Axes>"
      ]
     },
     "metadata": {},
     "output_type": "display_data"
    }
   ],
   "source": [
    "\n",
    "tf.reset_default_graph()\n",
    "### Impute missing data. Fthe mask to be zeros\n",
    "\n",
    "x_recon,z_posterior,x_recon_cat_p = vae.get_imputation( Data_train_noisy_decompressed, mask_train_decompressed*0,cat_dims,dic_var_type) ## one hot already cpverted to integer\n",
    "\n",
    "\n",
    "x_real = process.compress_data(Data_train_decompressed,cat_dims, dic_var_type) ## x_real still needs conversion\n",
    "x_real_cat_p = Data_train_decompressed[:,0:(cat_dims.sum()).astype(int)]\n",
    "\n",
    "\n",
    "# max_Data = 0.7\n",
    "# min_Data = 0.3  \n",
    "Data_std = (x_real - x_real.min(axis=0)) / (x_real.max(axis=0) - x_real.min(axis=0))\n",
    "scaling_factor = (x_real.max(axis=0) - x_real.min(axis=0))/(max_Data - min_Data)\n",
    "Data_real = Data_std * (max_Data - min_Data) + min_Data\n",
    "\n",
    "fast_plot = 1\n",
    "\n",
    "sub_id = [1,2,10]\n",
    "\n",
    "if fast_plot ==1:\n",
    "    Data_real = pd.DataFrame(Data_real[:,sub_id])\n",
    "    g = sns.pairplot(Data_real.sample(min(1000,x_real.shape[0])),diag_kind = 'kde')\n",
    "    g = g.map_diag(sns.distplot, bins = 50,norm_hist = True)\n",
    "    g.set(xlim=(min_Data,max_Data), ylim = (min_Data,max_Data))\n",
    "else:\n",
    "    Data_real = pd.DataFrame(Data_real[:,sub_id])\n",
    "    g = sns.pairplot(Data_real.sample(min(10000,x_real.shape[0])),diag_kind = 'kde')\n",
    "    g = g.map_diag(sns.distplot, bins = 50,norm_hist = True)\n",
    "    g = g.map_upper(plt.scatter,marker='+')\n",
    "    g = g.map_lower(sns.kdeplot, cmap=\"hot\",shade=True,bw=.1)\n",
    "    g.set(xlim=(min_Data,max_Data), ylim = (min_Data,max_Data))\n",
    "\n",
    "\n"
   ]
  },
  {
   "cell_type": "code",
   "execution_count": 7,
   "metadata": {},
   "outputs": [
    {
     "data": {
      "image/png": "[encoded data removed]",
      "text/plain": [
       "<Figure size 540x540 with 12 Axes>"
      ]
     },
     "metadata": {},
     "output_type": "display_data"
    }
   ],
   "source": [
    "Data_fake_noisy= x_recon\n",
    "Data_fake = process.invert_noise(Data_fake_noisy,list_discrete_compressed,records_d) \n",
    "\n",
    "Data_std = (Data_fake - x_real.min(axis=0)) / (x_real.max(axis=0) - x_real.min(axis=0))\n",
    "Data_fake = Data_std * (max_Data - min_Data) + min_Data\n",
    "\n",
    "\n",
    "sub_id = [1,2,10]\n",
    "\n",
    "if fast_plot ==1:\n",
    "    g = sns.pairplot(pd.DataFrame(Data_fake[:,sub_id]).sample(min(1000,x_real.shape[0])),diag_kind = 'kde')\n",
    "    g = g.map_diag(sns.distplot, bins = 50,norm_hist = True)\n",
    "    g.set(xlim=(min_Data,max_Data), ylim = (min_Data,max_Data))\n",
    "else:\n",
    "    g = sns.pairplot(pd.DataFrame(Data_fake[:,sub_id]).sample(min(1000,x_real.shape[0])),diag_kind = 'kde')\n",
    "    g = g.map_diag(sns.distplot, bins = 50,norm_hist = True)\n",
    "    g = g.map_upper(plt.scatter,marker='+')\n",
    "    g = g.map_lower(sns.kdeplot, cmap=\"hot\",shade=True,bw=.1)\n",
    "    g.set(xlim=(min_Data,max_Data), ylim = (min_Data,max_Data))\n",
    "\n",
    "    \n"
   ]
  },
  {
   "cell_type": "markdown",
   "metadata": {},
   "source": [
    "## Train a discriminator on top of the model and perform SAIA"
   ]
  },
  {
   "cell_type": "code",
   "execution_count": 8,
   "metadata": {},
   "outputs": [
    {
     "name": "stdout",
     "output_type": "stream",
     "text": [
      "Tensor(\"is/generator/mul_5:0\", shape=(?, 124), dtype=float32)\n",
      "Tensor(\"is/generator/mul_43:0\", shape=(?, 124), dtype=float32)\n"
     ]
    },
    {
     "name": "stderr",
     "output_type": "stream",
     "text": [
      "/home/paperspace/anaconda3/lib/python3.6/site-packages/tensorflow/python/ops/gradients_impl.py:96: UserWarning: Converting sparse IndexedSlices to a dense Tensor of unknown shape. This may consume a large amount of memory.\n",
      "  \"Converting sparse IndexedSlices to a dense Tensor of unknown shape. \"\n"
     ]
    },
    {
     "name": "stdout",
     "output_type": "stream",
     "text": [
      "INFO:tensorflow:Restoring parameters from ./saved_weights/bank3_gen/encoder.tensorflow\n",
      "INFO:tensorflow:Restoring parameters from ./saved_weights/bank3_gen/generator.tensorflow\n",
      "Epoch: 0 \tnegative training ELBO per observed feature: 5081.59, Cat_term: 0.09, Flt_term: -0.57,z_term: 62.83\n",
      "Epoch: 1 \tnegative training ELBO per observed feature: 2226.58, Cat_term: 0.09, Flt_term: -0.56,z_term: 26.07\n",
      "Epoch: 2 \tnegative training ELBO per observed feature: 1549.46, Cat_term: 0.09, Flt_term: -0.56,z_term: 16.15\n",
      "Epoch: 3 \tnegative training ELBO per observed feature: 1267.07, Cat_term: 0.09, Flt_term: -0.59,z_term: 10.53\n",
      "Epoch: 4 \tnegative training ELBO per observed feature: 1094.83, Cat_term: 0.09, Flt_term: -0.58,z_term: 9.83\n",
      "Epoch: 5 \tnegative training ELBO per observed feature: 972.37, Cat_term: 0.08, Flt_term: -0.59,z_term: 7.71\n",
      "Epoch: 6 \tnegative training ELBO per observed feature: 891.73, Cat_term: 0.09, Flt_term: -0.59,z_term: 7.22\n",
      "Epoch: 7 \tnegative training ELBO per observed feature: 811.60, Cat_term: 0.09, Flt_term: -0.58,z_term: 6.13\n",
      "Epoch: 8 \tnegative training ELBO per observed feature: 771.66, Cat_term: 0.09, Flt_term: -0.59,z_term: 5.25\n",
      "Epoch: 9 \tnegative training ELBO per observed feature: 718.78, Cat_term: 0.09, Flt_term: -0.61,z_term: 4.92\n",
      "Epoch: 10 \tnegative training ELBO per observed feature: 676.23, Cat_term: 0.09, Flt_term: -0.60,z_term: 3.82\n",
      "Epoch: 11 \tnegative training ELBO per observed feature: 627.54, Cat_term: 0.08, Flt_term: -0.59,z_term: 3.43\n",
      "Epoch: 12 \tnegative training ELBO per observed feature: 590.13, Cat_term: 0.09, Flt_term: -0.60,z_term: 2.60\n",
      "Epoch: 13 \tnegative training ELBO per observed feature: 554.96, Cat_term: 0.08, Flt_term: -0.59,z_term: 2.53\n",
      "Epoch: 14 \tnegative training ELBO per observed feature: 529.37, Cat_term: 0.08, Flt_term: -0.60,z_term: 1.83\n",
      "Epoch: 15 \tnegative training ELBO per observed feature: 496.02, Cat_term: 0.09, Flt_term: -0.58,z_term: 1.85\n",
      "Epoch: 16 \tnegative training ELBO per observed feature: 467.30, Cat_term: 0.08, Flt_term: -0.60,z_term: 1.76\n",
      "Epoch: 17 \tnegative training ELBO per observed feature: 442.08, Cat_term: 0.08, Flt_term: -0.60,z_term: 1.39\n",
      "Epoch: 18 \tnegative training ELBO per observed feature: 413.42, Cat_term: 0.09, Flt_term: -0.60,z_term: 1.00\n",
      "Epoch: 19 \tnegative training ELBO per observed feature: 382.13, Cat_term: 0.09, Flt_term: -0.60,z_term: 0.44\n",
      "Epoch: 20 \tnegative training ELBO per observed feature: 359.26, Cat_term: 0.08, Flt_term: -0.61,z_term: -0.41\n",
      "Epoch: 21 \tnegative training ELBO per observed feature: 328.52, Cat_term: 0.08, Flt_term: -0.60,z_term: -0.48\n",
      "Epoch: 22 \tnegative training ELBO per observed feature: 301.39, Cat_term: 0.08, Flt_term: -0.59,z_term: -0.56\n",
      "Epoch: 23 \tnegative training ELBO per observed feature: 278.36, Cat_term: 0.08, Flt_term: -0.62,z_term: -1.18\n",
      "Epoch: 24 \tnegative training ELBO per observed feature: 252.63, Cat_term: 0.08, Flt_term: -0.60,z_term: -1.29\n",
      "Epoch: 25 \tnegative training ELBO per observed feature: 229.46, Cat_term: 0.08, Flt_term: -0.60,z_term: -2.14\n",
      "Epoch: 26 \tnegative training ELBO per observed feature: 207.38, Cat_term: 0.08, Flt_term: -0.60,z_term: -2.08\n",
      "Epoch: 27 \tnegative training ELBO per observed feature: 192.34, Cat_term: 0.08, Flt_term: -0.60,z_term: -2.66\n",
      "Epoch: 28 \tnegative training ELBO per observed feature: 169.82, Cat_term: 0.08, Flt_term: -0.62,z_term: -2.85\n",
      "Epoch: 29 \tnegative training ELBO per observed feature: 157.50, Cat_term: 0.08, Flt_term: -0.60,z_term: -2.86\n",
      "Epoch: 30 \tnegative training ELBO per observed feature: 145.15, Cat_term: 0.08, Flt_term: -0.61,z_term: -3.18\n",
      "Epoch: 31 \tnegative training ELBO per observed feature: 134.72, Cat_term: 0.08, Flt_term: -0.62,z_term: -3.41\n",
      "Epoch: 32 \tnegative training ELBO per observed feature: 123.38, Cat_term: 0.08, Flt_term: -0.58,z_term: -3.62\n",
      "Epoch: 33 \tnegative training ELBO per observed feature: 115.80, Cat_term: 0.08, Flt_term: -0.59,z_term: -3.77\n",
      "Epoch: 34 \tnegative training ELBO per observed feature: 106.00, Cat_term: 0.08, Flt_term: -0.61,z_term: -3.62\n",
      "Epoch: 35 \tnegative training ELBO per observed feature: 99.92, Cat_term: 0.08, Flt_term: -0.59,z_term: -4.08\n",
      "Epoch: 36 \tnegative training ELBO per observed feature: 91.88, Cat_term: 0.08, Flt_term: -0.59,z_term: -3.97\n",
      "Epoch: 37 \tnegative training ELBO per observed feature: 86.50, Cat_term: 0.08, Flt_term: -0.59,z_term: -4.16\n",
      "Epoch: 38 \tnegative training ELBO per observed feature: 81.59, Cat_term: 0.08, Flt_term: -0.61,z_term: -4.35\n",
      "Epoch: 39 \tnegative training ELBO per observed feature: 77.57, Cat_term: 0.08, Flt_term: -0.60,z_term: -4.35\n",
      "Epoch: 40 \tnegative training ELBO per observed feature: 71.84, Cat_term: 0.08, Flt_term: -0.59,z_term: -4.44\n",
      "Epoch: 41 \tnegative training ELBO per observed feature: 68.15, Cat_term: 0.08, Flt_term: -0.59,z_term: -4.48\n",
      "Epoch: 42 \tnegative training ELBO per observed feature: 63.78, Cat_term: 0.08, Flt_term: -0.59,z_term: -4.52\n",
      "Epoch: 43 \tnegative training ELBO per observed feature: 60.68, Cat_term: 0.08, Flt_term: -0.58,z_term: -4.65\n",
      "Epoch: 44 \tnegative training ELBO per observed feature: 56.97, Cat_term: 0.08, Flt_term: -0.60,z_term: -4.69\n",
      "Epoch: 45 \tnegative training ELBO per observed feature: 53.56, Cat_term: 0.08, Flt_term: -0.60,z_term: -4.82\n",
      "Epoch: 46 \tnegative training ELBO per observed feature: 51.72, Cat_term: 0.08, Flt_term: -0.58,z_term: -4.91\n",
      "Epoch: 47 \tnegative training ELBO per observed feature: 49.12, Cat_term: 0.08, Flt_term: -0.61,z_term: -4.92\n",
      "Epoch: 48 \tnegative training ELBO per observed feature: 47.77, Cat_term: 0.08, Flt_term: -0.58,z_term: -4.92\n",
      "Epoch: 49 \tnegative training ELBO per observed feature: 44.49, Cat_term: 0.08, Flt_term: -0.59,z_term: -5.01\n",
      "Epoch: 50 \tnegative training ELBO per observed feature: 42.90, Cat_term: 0.08, Flt_term: -0.60,z_term: -4.98\n",
      "Epoch: 51 \tnegative training ELBO per observed feature: 40.53, Cat_term: 0.08, Flt_term: -0.60,z_term: -4.97\n",
      "Epoch: 52 \tnegative training ELBO per observed feature: 39.43, Cat_term: 0.08, Flt_term: -0.60,z_term: -5.05\n",
      "Epoch: 53 \tnegative training ELBO per observed feature: 37.83, Cat_term: 0.08, Flt_term: -0.60,z_term: -5.07\n",
      "Epoch: 54 \tnegative training ELBO per observed feature: 35.81, Cat_term: 0.08, Flt_term: -0.59,z_term: -5.13\n",
      "Epoch: 55 \tnegative training ELBO per observed feature: 35.37, Cat_term: 0.08, Flt_term: -0.58,z_term: -5.12\n",
      "Epoch: 56 \tnegative training ELBO per observed feature: 32.97, Cat_term: 0.08, Flt_term: -0.58,z_term: -5.17\n",
      "Epoch: 57 \tnegative training ELBO per observed feature: 32.19, Cat_term: 0.08, Flt_term: -0.59,z_term: -5.17\n",
      "Epoch: 58 \tnegative training ELBO per observed feature: 30.92, Cat_term: 0.08, Flt_term: -0.59,z_term: -5.29\n",
      "Epoch: 59 \tnegative training ELBO per observed feature: 30.05, Cat_term: 0.08, Flt_term: -0.59,z_term: -5.25\n",
      "Epoch: 60 \tnegative training ELBO per observed feature: 28.63, Cat_term: 0.08, Flt_term: -0.58,z_term: -5.24\n",
      "Epoch: 61 \tnegative training ELBO per observed feature: 28.27, Cat_term: 0.08, Flt_term: -0.58,z_term: -5.31\n",
      "Epoch: 62 \tnegative training ELBO per observed feature: 26.76, Cat_term: 0.08, Flt_term: -0.57,z_term: -5.28\n",
      "Epoch: 63 \tnegative training ELBO per observed feature: 25.90, Cat_term: 0.08, Flt_term: -0.58,z_term: -5.30\n",
      "Epoch: 64 \tnegative training ELBO per observed feature: 24.86, Cat_term: 0.08, Flt_term: -0.59,z_term: -5.28\n",
      "Epoch: 65 \tnegative training ELBO per observed feature: 23.85, Cat_term: 0.08, Flt_term: -0.58,z_term: -5.30\n",
      "Epoch: 66 \tnegative training ELBO per observed feature: 23.22, Cat_term: 0.08, Flt_term: -0.57,z_term: -5.28\n",
      "Epoch: 67 \tnegative training ELBO per observed feature: 21.70, Cat_term: 0.08, Flt_term: -0.58,z_term: -5.37\n",
      "Epoch: 68 \tnegative training ELBO per observed feature: 21.81, Cat_term: 0.08, Flt_term: -0.57,z_term: -5.36\n",
      "Epoch: 69 \tnegative training ELBO per observed feature: 21.22, Cat_term: 0.08, Flt_term: -0.56,z_term: -5.39\n",
      "Epoch: 70 \tnegative training ELBO per observed feature: 20.35, Cat_term: 0.08, Flt_term: -0.58,z_term: -5.41\n",
      "Epoch: 71 \tnegative training ELBO per observed feature: 19.85, Cat_term: 0.08, Flt_term: -0.58,z_term: -5.40\n",
      "Epoch: 72 \tnegative training ELBO per observed feature: 19.11, Cat_term: 0.08, Flt_term: -0.58,z_term: -5.45\n",
      "Epoch: 73 \tnegative training ELBO per observed feature: 18.69, Cat_term: 0.08, Flt_term: -0.57,z_term: -5.40\n"
     ]
    },
    {
     "name": "stdout",
     "output_type": "stream",
     "text": [
      "Epoch: 74 \tnegative training ELBO per observed feature: 17.85, Cat_term: 0.08, Flt_term: -0.57,z_term: -5.41\n",
      "Epoch: 75 \tnegative training ELBO per observed feature: 17.78, Cat_term: 0.08, Flt_term: -0.57,z_term: -5.48\n",
      "Epoch: 76 \tnegative training ELBO per observed feature: 16.90, Cat_term: 0.08, Flt_term: -0.56,z_term: -5.44\n",
      "Epoch: 77 \tnegative training ELBO per observed feature: 16.15, Cat_term: 0.08, Flt_term: -0.56,z_term: -5.46\n",
      "Epoch: 78 \tnegative training ELBO per observed feature: 16.13, Cat_term: 0.08, Flt_term: -0.56,z_term: -5.48\n",
      "Epoch: 79 \tnegative training ELBO per observed feature: 15.27, Cat_term: 0.08, Flt_term: -0.58,z_term: -5.48\n",
      "Epoch: 80 \tnegative training ELBO per observed feature: 15.17, Cat_term: 0.08, Flt_term: -0.56,z_term: -5.47\n",
      "Epoch: 81 \tnegative training ELBO per observed feature: 14.02, Cat_term: 0.08, Flt_term: -0.59,z_term: -5.47\n",
      "Epoch: 82 \tnegative training ELBO per observed feature: 14.06, Cat_term: 0.08, Flt_term: -0.57,z_term: -5.53\n",
      "Epoch: 83 \tnegative training ELBO per observed feature: 13.93, Cat_term: 0.08, Flt_term: -0.55,z_term: -5.47\n",
      "Epoch: 84 \tnegative training ELBO per observed feature: 13.57, Cat_term: 0.08, Flt_term: -0.57,z_term: -5.52\n",
      "Epoch: 85 \tnegative training ELBO per observed feature: 13.43, Cat_term: 0.08, Flt_term: -0.58,z_term: -5.51\n",
      "Epoch: 86 \tnegative training ELBO per observed feature: 12.77, Cat_term: 0.08, Flt_term: -0.56,z_term: -5.52\n",
      "Epoch: 87 \tnegative training ELBO per observed feature: 12.31, Cat_term: 0.08, Flt_term: -0.56,z_term: -5.54\n",
      "Epoch: 88 \tnegative training ELBO per observed feature: 12.19, Cat_term: 0.08, Flt_term: -0.56,z_term: -5.57\n",
      "Epoch: 89 \tnegative training ELBO per observed feature: 12.14, Cat_term: 0.09, Flt_term: -0.57,z_term: -5.56\n",
      "Epoch: 90 \tnegative training ELBO per observed feature: 11.91, Cat_term: 0.08, Flt_term: -0.56,z_term: -5.54\n",
      "Epoch: 91 \tnegative training ELBO per observed feature: 11.51, Cat_term: 0.08, Flt_term: -0.58,z_term: -5.60\n",
      "Epoch: 92 \tnegative training ELBO per observed feature: 11.43, Cat_term: 0.08, Flt_term: -0.56,z_term: -5.55\n",
      "Epoch: 93 \tnegative training ELBO per observed feature: 10.81, Cat_term: 0.08, Flt_term: -0.57,z_term: -5.55\n",
      "Epoch: 94 \tnegative training ELBO per observed feature: 10.57, Cat_term: 0.08, Flt_term: -0.58,z_term: -5.55\n",
      "Epoch: 95 \tnegative training ELBO per observed feature: 10.16, Cat_term: 0.08, Flt_term: -0.57,z_term: -5.57\n",
      "Epoch: 96 \tnegative training ELBO per observed feature: 10.36, Cat_term: 0.08, Flt_term: -0.55,z_term: -5.58\n",
      "Epoch: 97 \tnegative training ELBO per observed feature: 10.10, Cat_term: 0.09, Flt_term: -0.56,z_term: -5.56\n",
      "Epoch: 98 \tnegative training ELBO per observed feature: 9.51, Cat_term: 0.08, Flt_term: -0.56,z_term: -5.55\n",
      "Epoch: 99 \tnegative training ELBO per observed feature: 9.36, Cat_term: 0.08, Flt_term: -0.56,z_term: -5.59\n",
      "Epoch: 100 \tnegative training ELBO per observed feature: 8.92, Cat_term: 0.08, Flt_term: -0.56,z_term: -5.58\n",
      "Epoch: 101 \tnegative training ELBO per observed feature: 9.13, Cat_term: 0.08, Flt_term: -0.55,z_term: -5.56\n",
      "Epoch: 102 \tnegative training ELBO per observed feature: 8.73, Cat_term: 0.08, Flt_term: -0.56,z_term: -5.56\n",
      "Epoch: 103 \tnegative training ELBO per observed feature: 8.58, Cat_term: 0.08, Flt_term: -0.56,z_term: -5.59\n",
      "Epoch: 104 \tnegative training ELBO per observed feature: 8.76, Cat_term: 0.08, Flt_term: -0.57,z_term: -5.62\n",
      "Epoch: 105 \tnegative training ELBO per observed feature: 8.69, Cat_term: 0.08, Flt_term: -0.55,z_term: -5.60\n",
      "Epoch: 106 \tnegative training ELBO per observed feature: 8.00, Cat_term: 0.08, Flt_term: -0.57,z_term: -5.61\n",
      "Epoch: 107 \tnegative training ELBO per observed feature: 8.36, Cat_term: 0.08, Flt_term: -0.56,z_term: -5.63\n",
      "Epoch: 108 \tnegative training ELBO per observed feature: 8.21, Cat_term: 0.08, Flt_term: -0.55,z_term: -5.63\n",
      "Epoch: 109 \tnegative training ELBO per observed feature: 7.67, Cat_term: 0.08, Flt_term: -0.57,z_term: -5.64\n",
      "Epoch: 110 \tnegative training ELBO per observed feature: 7.50, Cat_term: 0.09, Flt_term: -0.57,z_term: -5.60\n",
      "Epoch: 111 \tnegative training ELBO per observed feature: 7.12, Cat_term: 0.08, Flt_term: -0.56,z_term: -5.60\n",
      "Epoch: 112 \tnegative training ELBO per observed feature: 6.98, Cat_term: 0.08, Flt_term: -0.56,z_term: -5.60\n",
      "Epoch: 113 \tnegative training ELBO per observed feature: 7.27, Cat_term: 0.09, Flt_term: -0.55,z_term: -5.63\n",
      "Epoch: 114 \tnegative training ELBO per observed feature: 6.84, Cat_term: 0.09, Flt_term: -0.57,z_term: -5.61\n",
      "Epoch: 115 \tnegative training ELBO per observed feature: 6.77, Cat_term: 0.08, Flt_term: -0.56,z_term: -5.61\n",
      "Epoch: 116 \tnegative training ELBO per observed feature: 6.53, Cat_term: 0.08, Flt_term: -0.56,z_term: -5.62\n",
      "Epoch: 117 \tnegative training ELBO per observed feature: 6.80, Cat_term: 0.09, Flt_term: -0.57,z_term: -5.61\n",
      "Epoch: 118 \tnegative training ELBO per observed feature: 6.55, Cat_term: 0.08, Flt_term: -0.54,z_term: -5.63\n",
      "Epoch: 119 \tnegative training ELBO per observed feature: 6.40, Cat_term: 0.08, Flt_term: -0.55,z_term: -5.60\n",
      "Epoch: 120 \tnegative training ELBO per observed feature: 6.29, Cat_term: 0.09, Flt_term: -0.56,z_term: -5.63\n",
      "Epoch: 121 \tnegative training ELBO per observed feature: 6.25, Cat_term: 0.09, Flt_term: -0.55,z_term: -5.64\n",
      "Epoch: 122 \tnegative training ELBO per observed feature: 5.85, Cat_term: 0.09, Flt_term: -0.56,z_term: -5.64\n",
      "Epoch: 123 \tnegative training ELBO per observed feature: 5.92, Cat_term: 0.09, Flt_term: -0.55,z_term: -5.64\n",
      "Epoch: 124 \tnegative training ELBO per observed feature: 5.85, Cat_term: 0.08, Flt_term: -0.55,z_term: -5.64\n",
      "Epoch: 125 \tnegative training ELBO per observed feature: 5.83, Cat_term: 0.08, Flt_term: -0.56,z_term: -5.66\n",
      "Epoch: 126 \tnegative training ELBO per observed feature: 5.68, Cat_term: 0.09, Flt_term: -0.55,z_term: -5.66\n",
      "Epoch: 127 \tnegative training ELBO per observed feature: 5.46, Cat_term: 0.09, Flt_term: -0.55,z_term: -5.63\n",
      "Epoch: 128 \tnegative training ELBO per observed feature: 5.18, Cat_term: 0.09, Flt_term: -0.58,z_term: -5.64\n",
      "Epoch: 129 \tnegative training ELBO per observed feature: 5.24, Cat_term: 0.09, Flt_term: -0.56,z_term: -5.67\n",
      "Epoch: 130 \tnegative training ELBO per observed feature: 5.19, Cat_term: 0.08, Flt_term: -0.55,z_term: -5.63\n",
      "Epoch: 131 \tnegative training ELBO per observed feature: 5.21, Cat_term: 0.09, Flt_term: -0.55,z_term: -5.65\n",
      "Epoch: 132 \tnegative training ELBO per observed feature: 5.19, Cat_term: 0.09, Flt_term: -0.55,z_term: -5.63\n",
      "Epoch: 133 \tnegative training ELBO per observed feature: 5.10, Cat_term: 0.08, Flt_term: -0.55,z_term: -5.68\n",
      "Epoch: 134 \tnegative training ELBO per observed feature: 4.73, Cat_term: 0.08, Flt_term: -0.56,z_term: -5.63\n",
      "Epoch: 135 \tnegative training ELBO per observed feature: 4.64, Cat_term: 0.08, Flt_term: -0.56,z_term: -5.66\n",
      "Epoch: 136 \tnegative training ELBO per observed feature: 4.70, Cat_term: 0.09, Flt_term: -0.56,z_term: -5.65\n",
      "Epoch: 137 \tnegative training ELBO per observed feature: 4.75, Cat_term: 0.09, Flt_term: -0.56,z_term: -5.66\n",
      "Epoch: 138 \tnegative training ELBO per observed feature: 4.61, Cat_term: 0.09, Flt_term: -0.56,z_term: -5.65\n",
      "Epoch: 139 \tnegative training ELBO per observed feature: 4.57, Cat_term: 0.08, Flt_term: -0.56,z_term: -5.65\n",
      "Epoch: 140 \tnegative training ELBO per observed feature: 4.37, Cat_term: 0.09, Flt_term: -0.56,z_term: -5.65\n",
      "Epoch: 141 \tnegative training ELBO per observed feature: 4.24, Cat_term: 0.09, Flt_term: -0.56,z_term: -5.68\n",
      "Epoch: 142 \tnegative training ELBO per observed feature: 4.38, Cat_term: 0.08, Flt_term: -0.54,z_term: -5.67\n",
      "Epoch: 143 \tnegative training ELBO per observed feature: 4.17, Cat_term: 0.09, Flt_term: -0.55,z_term: -5.68\n",
      "Epoch: 144 \tnegative training ELBO per observed feature: 3.94, Cat_term: 0.08, Flt_term: -0.56,z_term: -5.67\n",
      "Epoch: 145 \tnegative training ELBO per observed feature: 4.01, Cat_term: 0.08, Flt_term: -0.56,z_term: -5.67\n",
      "Epoch: 146 \tnegative training ELBO per observed feature: 4.26, Cat_term: 0.09, Flt_term: -0.55,z_term: -5.68\n",
      "Epoch: 147 \tnegative training ELBO per observed feature: 3.82, Cat_term: 0.08, Flt_term: -0.55,z_term: -5.66\n",
      "Epoch: 148 \tnegative training ELBO per observed feature: 3.86, Cat_term: 0.08, Flt_term: -0.55,z_term: -5.66\n",
      "Epoch: 149 \tnegative training ELBO per observed feature: 3.82, Cat_term: 0.09, Flt_term: -0.56,z_term: -5.65\n"
     ]
    },
    {
     "name": "stdout",
     "output_type": "stream",
     "text": [
      "Epoch: 150 \tnegative training ELBO per observed feature: 3.70, Cat_term: 0.09, Flt_term: -0.56,z_term: -5.66\n",
      "Epoch: 151 \tnegative training ELBO per observed feature: 3.68, Cat_term: 0.09, Flt_term: -0.57,z_term: -5.67\n",
      "Epoch: 152 \tnegative training ELBO per observed feature: 3.61, Cat_term: 0.09, Flt_term: -0.57,z_term: -5.67\n",
      "Epoch: 153 \tnegative training ELBO per observed feature: 3.48, Cat_term: 0.08, Flt_term: -0.56,z_term: -5.67\n",
      "Epoch: 154 \tnegative training ELBO per observed feature: 3.40, Cat_term: 0.09, Flt_term: -0.56,z_term: -5.67\n",
      "Epoch: 155 \tnegative training ELBO per observed feature: 3.51, Cat_term: 0.09, Flt_term: -0.54,z_term: -5.67\n",
      "Epoch: 156 \tnegative training ELBO per observed feature: 3.49, Cat_term: 0.08, Flt_term: -0.56,z_term: -5.67\n",
      "Epoch: 157 \tnegative training ELBO per observed feature: 3.49, Cat_term: 0.08, Flt_term: -0.56,z_term: -5.68\n",
      "Epoch: 158 \tnegative training ELBO per observed feature: 3.38, Cat_term: 0.09, Flt_term: -0.55,z_term: -5.65\n",
      "Epoch: 159 \tnegative training ELBO per observed feature: 3.43, Cat_term: 0.08, Flt_term: -0.56,z_term: -5.68\n",
      "Epoch: 160 \tnegative training ELBO per observed feature: 3.10, Cat_term: 0.09, Flt_term: -0.56,z_term: -5.66\n",
      "Epoch: 161 \tnegative training ELBO per observed feature: 3.25, Cat_term: 0.09, Flt_term: -0.56,z_term: -5.69\n",
      "Epoch: 162 \tnegative training ELBO per observed feature: 3.12, Cat_term: 0.08, Flt_term: -0.57,z_term: -5.69\n",
      "Epoch: 163 \tnegative training ELBO per observed feature: 3.10, Cat_term: 0.08, Flt_term: -0.55,z_term: -5.67\n",
      "Epoch: 164 \tnegative training ELBO per observed feature: 3.23, Cat_term: 0.09, Flt_term: -0.55,z_term: -5.68\n",
      "Epoch: 165 \tnegative training ELBO per observed feature: 3.05, Cat_term: 0.09, Flt_term: -0.57,z_term: -5.65\n",
      "Epoch: 166 \tnegative training ELBO per observed feature: 2.99, Cat_term: 0.08, Flt_term: -0.55,z_term: -5.68\n",
      "Epoch: 167 \tnegative training ELBO per observed feature: 3.08, Cat_term: 0.09, Flt_term: -0.57,z_term: -5.69\n",
      "Epoch: 168 \tnegative training ELBO per observed feature: 2.94, Cat_term: 0.08, Flt_term: -0.55,z_term: -5.66\n",
      "Epoch: 169 \tnegative training ELBO per observed feature: 2.97, Cat_term: 0.08, Flt_term: -0.57,z_term: -5.71\n",
      "Epoch: 170 \tnegative training ELBO per observed feature: 2.90, Cat_term: 0.09, Flt_term: -0.56,z_term: -5.68\n",
      "Epoch: 171 \tnegative training ELBO per observed feature: 2.83, Cat_term: 0.08, Flt_term: -0.55,z_term: -5.68\n",
      "Epoch: 172 \tnegative training ELBO per observed feature: 2.77, Cat_term: 0.08, Flt_term: -0.55,z_term: -5.69\n",
      "Epoch: 173 \tnegative training ELBO per observed feature: 2.59, Cat_term: 0.08, Flt_term: -0.57,z_term: -5.69\n",
      "Epoch: 174 \tnegative training ELBO per observed feature: 2.63, Cat_term: 0.09, Flt_term: -0.57,z_term: -5.67\n",
      "Epoch: 175 \tnegative training ELBO per observed feature: 2.70, Cat_term: 0.08, Flt_term: -0.57,z_term: -5.68\n",
      "Epoch: 176 \tnegative training ELBO per observed feature: 2.71, Cat_term: 0.09, Flt_term: -0.56,z_term: -5.69\n",
      "Epoch: 177 \tnegative training ELBO per observed feature: 2.74, Cat_term: 0.08, Flt_term: -0.57,z_term: -5.67\n",
      "Epoch: 178 \tnegative training ELBO per observed feature: 2.70, Cat_term: 0.08, Flt_term: -0.56,z_term: -5.68\n",
      "Epoch: 179 \tnegative training ELBO per observed feature: 2.45, Cat_term: 0.09, Flt_term: -0.57,z_term: -5.67\n",
      "Epoch: 180 \tnegative training ELBO per observed feature: 2.46, Cat_term: 0.09, Flt_term: -0.56,z_term: -5.67\n",
      "Epoch: 181 \tnegative training ELBO per observed feature: 2.45, Cat_term: 0.09, Flt_term: -0.56,z_term: -5.67\n",
      "Epoch: 182 \tnegative training ELBO per observed feature: 2.50, Cat_term: 0.08, Flt_term: -0.57,z_term: -5.69\n",
      "Epoch: 183 \tnegative training ELBO per observed feature: 2.53, Cat_term: 0.09, Flt_term: -0.54,z_term: -5.68\n",
      "Epoch: 184 \tnegative training ELBO per observed feature: 2.44, Cat_term: 0.08, Flt_term: -0.56,z_term: -5.68\n",
      "Epoch: 185 \tnegative training ELBO per observed feature: 2.43, Cat_term: 0.09, Flt_term: -0.56,z_term: -5.69\n",
      "Epoch: 186 \tnegative training ELBO per observed feature: 2.37, Cat_term: 0.08, Flt_term: -0.57,z_term: -5.70\n",
      "Epoch: 187 \tnegative training ELBO per observed feature: 2.38, Cat_term: 0.08, Flt_term: -0.57,z_term: -5.67\n",
      "Epoch: 188 \tnegative training ELBO per observed feature: 2.12, Cat_term: 0.08, Flt_term: -0.59,z_term: -5.70\n",
      "Epoch: 189 \tnegative training ELBO per observed feature: 2.35, Cat_term: 0.09, Flt_term: -0.56,z_term: -5.68\n",
      "Epoch: 190 \tnegative training ELBO per observed feature: 2.30, Cat_term: 0.09, Flt_term: -0.57,z_term: -5.68\n",
      "Epoch: 191 \tnegative training ELBO per observed feature: 2.10, Cat_term: 0.09, Flt_term: -0.57,z_term: -5.66\n",
      "Epoch: 192 \tnegative training ELBO per observed feature: 2.13, Cat_term: 0.09, Flt_term: -0.57,z_term: -5.69\n",
      "Epoch: 193 \tnegative training ELBO per observed feature: 2.16, Cat_term: 0.09, Flt_term: -0.56,z_term: -5.62\n",
      "Epoch: 194 \tnegative training ELBO per observed feature: 2.24, Cat_term: 0.08, Flt_term: -0.57,z_term: -5.72\n",
      "Epoch: 195 \tnegative training ELBO per observed feature: 2.10, Cat_term: 0.09, Flt_term: -0.56,z_term: -5.69\n",
      "Epoch: 196 \tnegative training ELBO per observed feature: 2.15, Cat_term: 0.09, Flt_term: -0.57,z_term: -5.71\n",
      "Epoch: 197 \tnegative training ELBO per observed feature: 2.06, Cat_term: 0.08, Flt_term: -0.59,z_term: -5.70\n",
      "Epoch: 198 \tnegative training ELBO per observed feature: 2.06, Cat_term: 0.08, Flt_term: -0.57,z_term: -5.72\n",
      "Epoch: 199 \tnegative training ELBO per observed feature: 1.96, Cat_term: 0.08, Flt_term: -0.57,z_term: -5.69\n",
      "Repeat = 0.0\n",
      "Strategy = 1.0\n",
      "Step = 0.0\n",
      "Repeat = 0.0\n",
      "Strategy = 1.0\n",
      "Step = 1.0\n",
      "Repeat = 0.0\n",
      "Strategy = 1.0\n",
      "Step = 2.0\n",
      "Repeat = 0.0\n",
      "Strategy = 1.0\n",
      "Step = 3.0\n",
      "Repeat = 0.0\n",
      "Strategy = 1.0\n",
      "Step = 4.0\n",
      "Repeat = 0.0\n",
      "Strategy = 1.0\n",
      "Step = 5.0\n",
      "Repeat = 0.0\n",
      "Strategy = 1.0\n",
      "Step = 6.0\n",
      "Repeat = 0.0\n",
      "Strategy = 1.0\n",
      "Step = 7.0\n",
      "Repeat = 0.0\n",
      "Strategy = 1.0\n",
      "Step = 8.0\n",
      "Repeat = 0.0\n",
      "Strategy = 1.0\n",
      "Step = 9.0\n",
      "Repeat = 0.0\n",
      "Strategy = 1.0\n",
      "Step = 10.0\n",
      "Repeat = 0.0\n",
      "Strategy = 1.0\n",
      "Step = 11.0\n",
      "Repeat = 0.0\n",
      "Strategy = 1.0\n",
      "Step = 12.0\n",
      "Repeat = 0.0\n",
      "Strategy = 1.0\n",
      "Step = 13.0\n",
      "Repeat = 0.0\n",
      "Strategy = 1.0\n",
      "Step = 14.0\n",
      "Repeat = 0.0\n",
      "Strategy = 1.0\n",
      "Step = 15.0\n"
     ]
    },
    {
     "name": "stderr",
     "output_type": "stream",
     "text": [
      "/home/paperspace/Desktop/VAEM NIPS/utils/reward.py:89: RuntimeWarning: invalid value encountered in multiply\n",
      "  noisy_samples_mix = x*mask + noisy_samples*(1-mask)\n"
     ]
    },
    {
     "name": "stdout",
     "output_type": "stream",
     "text": [
      "Repeat = 0.0\n",
      "Strategy = 1.0\n",
      "Step = 16.0\n",
      "Repeat = 0.0\n",
      "Strategy = 1.0\n",
      "Step = 17.0\n",
      "Repeat = 0.0\n",
      "Strategy = 1.0\n",
      "Step = 18.0\n",
      "Repeat = 0.0\n",
      "Strategy = 1.0\n",
      "Step = 19.0\n"
     ]
    }
   ],
   "source": [
    "args = params.Params('./hyperparameters/bank_SAIA.json')\n",
    "import utils.active_learning as active_learning\n",
    "vae = active_learning.p_vae_active_learning(Data_train_compressed, Data_train_noisy_decompressed,mask_train_decompressed,Data_test_decompressed,mask_test_compressed,mask_test_decompressed,cat_dims,DIM_FLT,dic_var_type,args)"
   ]
  },
  {
   "cell_type": "markdown",
   "metadata": {},
   "source": [
    "## Visualization of SAIA results"
   ]
  },
  {
   "cell_type": "code",
   "execution_count": 9,
   "metadata": {},
   "outputs": [
    {
     "data": {
      "text/plain": [
       "<Figure size 432x288 with 0 Axes>"
      ]
     },
     "metadata": {},
     "output_type": "display_data"
    },
    {
     "data": {
      "image/png": "[encoded data removed]",
      "text/plain": [
       "<Figure size 432x288 with 1 Axes>"
      ]
     },
     "metadata": {},
     "output_type": "display_data"
    }
   ],
   "source": [
    "npzfile = np.load(args.output_dir+'/UCI_rmse_curve_SING.npz')\n",
    "IC_SING=npzfile['information_curve']*scaling_factor[-1]\n",
    "\n",
    "import matplotlib.pyplot as plt\n",
    "from matplotlib.ticker import MaxNLocator\n",
    "plt.figure(0)\n",
    "L = IC_SING.shape[1]\n",
    "fig, ax1 = plt.subplots()\n",
    "# These are in unitless percentages of the figure size. (0,0 is bottom left)\n",
    "left, bottom, width, height = [0.45, 0.4, 0.45, 0.45]\n",
    "ax1.plot(np.sqrt((IC_SING[:,:,0:]**2).mean(axis=1)).mean(axis=0),'ys',linestyle = '-.', label = 'VAEM-Bank dataset')\n",
    "ax1.errorbar(np.arange(IC_SING.shape[2]),np.sqrt((IC_SING[:,:,0:]**2).mean(axis=1)).mean(axis=0), yerr=np.sqrt((IC_SING[:,:,0:]**2).mean(axis=1)).std(axis = 0)/np.sqrt(IC_SING.shape[0]),ecolor='y',fmt = 'ys')\n",
    "plt.xlabel('Steps',fontsize=18)\n",
    "plt.ylabel('avg. test. RMSE',fontsize=18)\n",
    "plt.xticks(fontsize=18)\n",
    "plt.yticks(fontsize=18)\n",
    "ax1.xaxis.set_major_locator(MaxNLocator(integer=True))\n",
    "ax1.legend(bbox_to_anchor=(0.0, 1.02, 1., .102), mode = \"expand\", loc=3,\n",
    "           ncol=1, borderaxespad=0.,prop={'size': 20}, frameon=False)\n",
    "ax1.ticklabel_format(useOffset=False)\n",
    "plt.show()\n"
   ]
  }
 ],
 "metadata": {
  "kernelspec": {
   "display_name": "Python 3",
   "language": "python",
   "name": "python3"
  },
  "language_info": {
   "codemirror_mode": {
    "name": "ipython",
    "version": 3
   },
   "file_extension": ".py",
   "mimetype": "text/x-python",
   "name": "python",
   "nbconvert_exporter": "python",
   "pygments_lexer": "ipython3",
   "version": "3.8.3"
  }
 },
 "nbformat": 4,
 "nbformat_minor": 2
}
